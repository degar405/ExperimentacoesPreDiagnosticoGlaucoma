{
  "nbformat": 4,
  "nbformat_minor": 0,
  "metadata": {
    "colab": {
      "provenance": [],
      "include_colab_link": true
    },
    "kernelspec": {
      "name": "python3",
      "display_name": "Python 3"
    },
    "language_info": {
      "name": "python"
    }
  },
  "cells": [
    {
      "cell_type": "markdown",
      "metadata": {
        "id": "view-in-github",
        "colab_type": "text"
      },
      "source": [
        "<a href=\"https://colab.research.google.com/github/degar405/ExperimentacoesPreDiagnosticoGlaucoma/blob/main/Trabalho.ipynb\" target=\"_parent\"><img src=\"https://colab.research.google.com/assets/colab-badge.svg\" alt=\"Open In Colab\"/></a>"
      ]
    },
    {
      "cell_type": "code",
      "source": [
        "!pip install -U scikit-image"
      ],
      "metadata": {
        "id": "n5fYe-dRF__t",
        "colab": {
          "base_uri": "https://localhost:8080/"
        },
        "outputId": "6a2a5f45-cb8c-4d6d-8388-2b3e3cad5659"
      },
      "execution_count": 1,
      "outputs": [
        {
          "output_type": "stream",
          "name": "stdout",
          "text": [
            "Looking in indexes: https://pypi.org/simple, https://us-python.pkg.dev/colab-wheels/public/simple/\n",
            "Requirement already satisfied: scikit-image in /usr/local/lib/python3.8/dist-packages (0.18.3)\n",
            "Collecting scikit-image\n",
            "  Downloading scikit_image-0.19.3-cp38-cp38-manylinux_2_17_x86_64.manylinux2014_x86_64.whl (14.0 MB)\n",
            "\u001b[2K     \u001b[90m━━━━━━━━━━━━━━━━━━━━━━━━━━━━━━━━━━━━━━━━\u001b[0m \u001b[32m14.0/14.0 MB\u001b[0m \u001b[31m27.1 MB/s\u001b[0m eta \u001b[36m0:00:00\u001b[0m\n",
            "\u001b[?25hRequirement already satisfied: pillow!=7.1.0,!=7.1.1,!=8.3.0,>=6.1.0 in /usr/local/lib/python3.8/dist-packages (from scikit-image) (7.1.2)\n",
            "Requirement already satisfied: packaging>=20.0 in /usr/local/lib/python3.8/dist-packages (from scikit-image) (21.3)\n",
            "Requirement already satisfied: networkx>=2.2 in /usr/local/lib/python3.8/dist-packages (from scikit-image) (3.0)\n",
            "Requirement already satisfied: numpy>=1.17.0 in /usr/local/lib/python3.8/dist-packages (from scikit-image) (1.21.6)\n",
            "Requirement already satisfied: tifffile>=2019.7.26 in /usr/local/lib/python3.8/dist-packages (from scikit-image) (2022.10.10)\n",
            "Requirement already satisfied: PyWavelets>=1.1.1 in /usr/local/lib/python3.8/dist-packages (from scikit-image) (1.4.1)\n",
            "Requirement already satisfied: imageio>=2.4.1 in /usr/local/lib/python3.8/dist-packages (from scikit-image) (2.9.0)\n",
            "Requirement already satisfied: scipy>=1.4.1 in /usr/local/lib/python3.8/dist-packages (from scikit-image) (1.7.3)\n",
            "Requirement already satisfied: pyparsing!=3.0.5,>=2.0.2 in /usr/local/lib/python3.8/dist-packages (from packaging>=20.0->scikit-image) (3.0.9)\n",
            "Installing collected packages: scikit-image\n",
            "  Attempting uninstall: scikit-image\n",
            "    Found existing installation: scikit-image 0.18.3\n",
            "    Uninstalling scikit-image-0.18.3:\n",
            "      Successfully uninstalled scikit-image-0.18.3\n",
            "Successfully installed scikit-image-0.19.3\n"
          ]
        }
      ]
    },
    {
      "cell_type": "code",
      "execution_count": 2,
      "metadata": {
        "id": "RCMMSauvae1t",
        "colab": {
          "base_uri": "https://localhost:8080/"
        },
        "outputId": "342c06dd-cd1e-4eb2-c113-0446abf815cf"
      },
      "outputs": [
        {
          "output_type": "stream",
          "name": "stderr",
          "text": [
            "/usr/local/lib/python3.8/dist-packages/skimage/io/manage_plugins.py:23: UserWarning: Your installed pillow version is < 8.1.2. Several security issues (CVE-2021-27921, CVE-2021-25290, CVE-2021-25291, CVE-2021-25293, and more) have been fixed in pillow 8.1.2 or higher. We recommend to upgrade this library.\n",
            "  from .collection import imread_collection_wrapper\n"
          ]
        },
        {
          "output_type": "stream",
          "name": "stdout",
          "text": [
            "Mounted at /content/gdrive\n"
          ]
        }
      ],
      "source": [
        "from google.colab import drive\n",
        "from os import listdir\n",
        "from skimage import io\n",
        "import pywt\n",
        "import numpy as np\n",
        "import cv2\n",
        "import matplotlib.pyplot as plt\n",
        "from skimage.feature import graycomatrix\n",
        "\n",
        "drive.mount('/content/gdrive')\n",
        "root_path = '/content/gdrive/My Drive/Colab Notebooks/Trabalho/'\n",
        "\n",
        "def exibirImagensCoeficientesWavelet(coeffs):\n",
        "  titles = ['Approximation', ' Horizontal detail',\n",
        "          'Vertical detail', 'Diagonal detail']\n",
        "  LL, (LH, HL, HH) = coeffs\n",
        "\n",
        "  fig = plt.figure(figsize=(12, 3))\n",
        "  for i, a in enumerate([LL, LH, HL, HH]):\n",
        "      ax = fig.add_subplot(1, 4, i + 1)\n",
        "      ax.imshow(a, interpolation=\"nearest\", cmap=plt.cm.gray)\n",
        "      ax.set_title(titles[i], fontsize=10)\n",
        "      ax.set_xticks([])\n",
        "      ax.set_yticks([])\n",
        "\n",
        "  fig.tight_layout()\n",
        "  plt.show()\n",
        "\n",
        "def separarCanaisRGB(imagem):\n",
        "  canalR = []\n",
        "  canalG = []\n",
        "  canalB = []\n",
        "\n",
        "  for linha in imagem:\n",
        "    linhaR = []\n",
        "    linhaG = []\n",
        "    linhaB = []\n",
        "\n",
        "    for pixel in linha:\n",
        "      linhaR.append(pixel[0])\n",
        "      linhaG.append(pixel[1])\n",
        "      linhaB.append(pixel[2])\n",
        "\n",
        "    canalR.append(linhaR)\n",
        "    canalG.append(linhaG)\n",
        "    canalB.append(linhaB)\n",
        "  \n",
        "  return (np.array(canalR), np.array(canalG), np.array(canalB))\n",
        "\n",
        "def aplicarWavelet(imagem, implementacao):\n",
        "  return pywt.dwt2(imagem, implementacao)\n",
        "\n",
        "def combinarImagensEmTonsDeCinza(R, G, B):\n",
        "  imagem = []\n",
        "  quantidadeLinhas = len(R)\n",
        "  quantidadeColunas = len(R[0])\n",
        "\n",
        "  for nLinha in range(0, quantidadeLinhas):\n",
        "    linha = []\n",
        "\n",
        "    for nColuna in range(0, quantidadeColunas):\n",
        "      pixel = round(0.2126 * R[nLinha][nColuna] + 0.7154 * G[nLinha][nColuna] + 0.0721 * B[nLinha][nColuna])\n",
        "      linha.append(pixel)\n",
        "\n",
        "    imagem.append(linha)\n",
        "\n",
        "  return imagem\n",
        "\n",
        "def combinarCoeficientesWavelet(coeficientesR, coeficientesG, coeficientesB):\n",
        "  (LLR, (LHR, HLR, HHR)) = coeficientesR\n",
        "  (LLG, (LHG, HLG, HHG)) = coeficientesG\n",
        "  (LLB, (LHB, HLB, HHB)) = coeficientesB\n",
        "\n",
        "  LL = combinarImagensEmTonsDeCinza(LLR, LLG, LLB)\n",
        "  LH = combinarImagensEmTonsDeCinza(LHR, LHG, LHB)\n",
        "  HL = combinarImagensEmTonsDeCinza(HLR, HLG, HLB)\n",
        "  HH = combinarImagensEmTonsDeCinza(HHR, HHG, HHB)\n",
        "\n",
        "  return (LL, (LH, HL, HH))\n",
        "\n",
        "def aplicarGlcm(imagem):\n",
        "  distancias = [1]\n",
        "  direcoes = [0, np.pi/4, np.pi/2, 3*np.pi/4]\n",
        "  resultadoGlcm = graycomatrix(np.array(imagem, dtype=np.uint8), distancias, direcoes)\n",
        "\n",
        "  qtdDirecoes = len(direcoes)\n",
        "  matrizes = []\n",
        "  for i in range(0, qtdDirecoes):\n",
        "    matrizes.append(resultadoGlcm[:, :, 0, i])\n",
        "\n",
        "  niveis = len(matrizes[0])\n",
        "  matrizRetorno = []\n",
        "  for nLinha in range(0, niveis):\n",
        "    linha = []\n",
        "    for nColuna in range(0, niveis):\n",
        "      acumuladorFrequencia = 0\n",
        "      for matriz in matrizes:\n",
        "        acumuladorFrequencia += matriz[nLinha, nColuna]\n",
        "      linha.append(round(acumuladorFrequencia/qtdDirecoes))\n",
        "    matrizRetorno.append(linha)\n",
        "\n",
        "  matrizRetorno = np.array(matrizRetorno)\n",
        "  return matrizRetorno\n",
        "\n",
        "def aplicarDescritoresDeTextura(imagem, implementacaoWavelet):\n",
        "  (canalR, canalG, canalB) = separarCanaisRGB(imagem)\n",
        "\n",
        "  coeficientesWaveletR = aplicarWavelet(canalR, implementacaoWavelet)\n",
        "  coeficientesWaveletG = aplicarWavelet(canalG, implementacaoWavelet)\n",
        "  coeficientesWaveletB = aplicarWavelet(canalB, implementacaoWavelet)\n",
        "\n",
        "  coeficientesWavelet = combinarCoeficientesWavelet(coeficientesWaveletR, coeficientesWaveletG, coeficientesWaveletB)\n",
        "\n",
        "  #exibirImagensCoeficientesWavelet(coeficientesWavelet)\n",
        "  LL, (LH , HL, HH) = coeficientesWavelet\n",
        "  return (aplicarGlcm(LL), aplicarGlcm(LH), aplicarGlcm(HL), aplicarGlcm(HH))\n",
        "\n",
        "def TesteMapasDeTextura():\n",
        "  imagemTeste = io.imread(root_path + \"Normal/Im001.jpg\")\n",
        "  io.imshow(imagemTeste)\n",
        "  io.show()\n",
        "\n",
        "  mapasDeTextura = aplicarDescritoresDeTextura(imagemTeste, \"haar\")\n",
        "  print(mapasDeTextura)"
      ]
    },
    {
      "cell_type": "code",
      "source": [
        "from sklearn.datasets import load_iris\n",
        "from sklearn.gaussian_process import GaussianProcessClassifier\n",
        "from sklearn.gaussian_process.kernels import RBF\n",
        "\n",
        "root_path = '/content/gdrive/My Drive/Colab Notebooks/Trabalho/'\n",
        "\n",
        "amostrasNormais = []\n",
        "for i in range(1, 256):\n",
        "  nomeArquivo = \"Im\" + str(i).rjust(3, \"0\") + \".jpg\"\n",
        "  imagem = io.imread(root_path + \"Normal/\" + nomeArquivo)\n",
        "  LL,_,_,_ = aplicarDescritoresDeTextura(imagem, \"haar\")\n",
        "  amostrasNormais.append(LL.flatten())\n",
        "\n",
        "amostrasGlaucomatosas = []\n",
        "for i in range(256, 456):\n",
        "  nomeArquivo = \"Im\" + str(i).rjust(3, \"0\") + \".jpg\"\n",
        "  imagem = io.imread(root_path + \"Glaucoma and glaucoma suspicious/\" + nomeArquivo)\n",
        "  LL,_,_,_ = aplicarDescritoresDeTextura(imagem, \"haar\")\n",
        "  amostrasGlaucomatosas.append(LL.flatten())\n",
        "\n",
        "kernel = 1.0 * RBF(1.0)\n",
        "gpc = GaussianProcessClassifier(kernel=kernel, random_state=0)\n",
        "\n",
        "quotaTreinamentoNormais = round(0.8 * len(amostrasNormais))\n",
        "quotaTreinamentoGlaucomatosas = round(0.8 * len(amostrasGlaucomatosas))\n",
        "amostras = amostrasNormais[:quotaTreinamentoNormais] + amostrasGlaucomatosas[:quotaTreinamentoGlaucomatosas]\n",
        "saidaAmostras = [0 for i in range(quotaTreinamentoNormais)] + [1 for i in range(quotaTreinamentoGlaucomatosas)]\n",
        "gpc.fit(amostras, saidaAmostras)\n",
        "\n",
        "amostrasTeste = amostrasNormais[quotaTreinamentoNormais:] + amostrasGlaucomatosas[quotaTreinamentoGlaucomatosas:]\n",
        "saidaAmostrasTeste = [0 for i in range(len(amostrasNormais) - quotaTreinamentoNormais)] + [1 for i in range(len(amostrasGlaucomatosas) - quotaTreinamentoGlaucomatosas)]\n",
        "\n",
        "print(gpc.score(amostrasTeste, saidaAmostrasTeste))\n",
        "\n",
        "print(len(amostras))\n",
        "print(len(amostrasTeste))"
      ],
      "metadata": {
        "id": "kfU0QA2LbU8r",
        "colab": {
          "base_uri": "https://localhost:8080/"
        },
        "outputId": "07071e81-5452-49f2-c298-98780f96540e"
      },
      "execution_count": 17,
      "outputs": [
        {
          "output_type": "stream",
          "name": "stdout",
          "text": [
            "0.5604395604395604\n",
            "364\n",
            "91\n"
          ]
        }
      ]
    }
  ]
}